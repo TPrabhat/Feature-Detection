{
 "cells": [
  {
   "cell_type": "code",
   "execution_count": null,
   "metadata": {
    "collapsed": true
   },
   "outputs": [],
   "source": [
    "# do relevant imports\n",
    "\n",
    "import numpy as np\n",
    "import matplotlib.pyplot as plt\n",
    "import matplotlib.image as mpimg\n",
    "import cv2"
   ]
  },
  {
   "cell_type": "code",
   "execution_count": null,
   "metadata": {},
   "outputs": [],
   "source": [
    "# sobel x and sobel y\n",
    "def abs_sobel_thresh(img, orient, sobel_kernel=3, thresh=(0, 255)):\n",
    "\n",
    "    if orient == 'x':\n",
    "        sobelx = cv2.Sobel(img, cv2.CV_64F, 1, 0, ksize = sobel_kernel)\n",
    "        abs_sobel = np.absolute(sobelx)\n",
    "\n",
    "    elif orient == 'y':\n",
    "        sobely = cv2.Sobel(img, cv2.CV_64F, 0, 1, ksize = sobel_kernel)\n",
    "        abs_sobel = np.absolute(sobely)\n",
    "\n",
    "    else:\n",
    "        sobelx = sobely = abs_sobel = 0\n",
    "\n",
    "    scaled_sobel = np.uint8(255 * abs_sobel / np.max(abs_sobel))\n",
    "    binary = np.zeros_like(scaled_sobel)\n",
    "    binary[(scaled_sobel > thresh[0]) & (scaled_sobel < thresh[1])] = 1\n",
    "\n",
    "    return binary"
   ]
  },
  {
   "cell_type": "code",
   "execution_count": null,
   "metadata": {},
   "outputs": [],
   "source": [
    "def mag_thresh(img, sobel_kernel=3, mag_thresh=(0, 255)):\n",
    "\n",
    "    sobelx = cv2.Sobel(img, cv2.CV_64F, 1, 0, ksize=sobel_kernel)\n",
    "    abs_sobelx = np.absolute(sobelx)\n",
    "\n",
    "    sobely = cv2.Sobel(img, cv2.CV_64F, 0, 1, ksize=sobel_kernel)\n",
    "    abs_sobely = np.absolute(sobely)\n",
    "\n",
    "    mag = np.sqrt(abs_sobelx*abs_sobelx + abs_sobely*abs_sobely)\n",
    "    scaled_mag = np.uint8(255 * mag / np.max(mag))\n",
    "\n",
    "    binary = np.zeros_like(scaled_mag)\n",
    "    binary[(scaled_mag >= mag_thresh[0]) & (scaled_mag <= mag_thresh[1])] = 1\n",
    "\n",
    "    return binary"
   ]
  },
  {
   "cell_type": "code",
   "execution_count": null,
   "metadata": {},
   "outputs": [],
   "source": [
    "def dir_threshold(img, sobel_kernel=3, thresh=(0, np.pi/2)):\n",
    "\n",
    "    sobelx = cv2.Sobel(img, cv2.CV_64F, 1, 0, ksize=sobel_kernel)\n",
    "    abs_sobelx = np.absolute(sobelx)\n",
    "\n",
    "    sobely = cv2.Sobel(img, cv2.CV_64F, 0, 1, ksize=sobel_kernel)\n",
    "    abs_sobely = np.absolute(sobely)\n",
    "\n",
    "    dir = np.arctan2(abs_sobely, abs_sobelx)\n",
    "    binary = np.zeros_like(dir)\n",
    "    binary[(dir > thresh[0]) & (dir < thresh[1])] = 1\n",
    "\n",
    "    return binary"
   ]
  },
  {
   "cell_type": "code",
   "execution_count": null,
   "metadata": {},
   "outputs": [],
   "source": [
    "# load image\n",
    "img = mpimg.imread('test-image.jpg')\n",
    "plt.subplot(231)\n",
    "plt.gca().set_title('Original')\n",
    "plt.imshow(img)\n",
    "\n",
    "# convert to grayscale\n",
    "gray = cv2.cvtColor(img, cv2.COLOR_RGB2GRAY)\n",
    "plt.subplot(232)\n",
    "plt.gca().set_title('Grayscale')\n",
    "plt.imshow(gray)\n",
    "\n",
    "# find gradient of the grayscale image in x direction\n",
    "gradx = Func.abs_sobel_thresh(gray, 'x', sobel_kernel = 3, thresh=(10, 100))\n",
    "plt.subplot(233)\n",
    "plt.gca().set_title('Sobel X')\n",
    "plt.imshow(gradx)\n",
    "\n",
    "# find gradient of grayscale image in y direction\n",
    "grady = Func.abs_sobel_thresh(gray, 'y', sobel_kernel = 3, thresh=(10, 100))\n",
    "plt.subplot(234)\n",
    "plt.gca().set_title('Sobel Y')\n",
    "plt.imshow(grady)\n",
    "\n",
    "# find the magnitude of the gradient\n",
    "mag = Func.mag_thresh(gray, sobel_kernel = 3, mag_thresh = (10, 100))\n",
    "plt.subplot(235)\n",
    "plt.gca().set_title('Magnitude')\n",
    "plt.imshow(mag)\n",
    "\n",
    "# find the direction of the gradient and apply threshold\n",
    "dir = Func.dir_threshold(gray, sobel_kernel=3, thresh=(0, np.pi/16))\n",
    "plt.subplot(236)\n",
    "plt.gca().set_title('Direction')\n",
    "plt.imshow(dir)\n",
    "\n",
    "plt.show()"
   ]
  }
 ],
 "metadata": {
  "kernelspec": {
   "display_name": "Python 2",
   "language": "python",
   "name": "python2"
  },
  "language_info": {
   "codemirror_mode": {
    "name": "ipython",
    "version": 2
   },
   "file_extension": ".py",
   "mimetype": "text/x-python",
   "name": "python",
   "nbconvert_exporter": "python",
   "pygments_lexer": "ipython2",
   "version": "2.7.6"
  }
 },
 "nbformat": 4,
 "nbformat_minor": 0
}
